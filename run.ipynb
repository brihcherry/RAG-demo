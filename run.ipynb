{
 "cells": [
  {
   "cell_type": "markdown",
   "metadata": {},
   "source": [
    "# Running a basic RAG-powered LLM application using Mistral\n",
    "\n",
    "**parse.py**: defines find_documents() and load_documents(), which locates and stores each file in a way that can be used by a RAG system.\n",
    "\n",
    "This notebook loads all the information from files in the chosen directory into a Chroma DB collection. The files are divided according to the default parameters used by the loaders in load_documents. A query is used to extract information from the collection, and the query, context, and some extra information are combined into an LLM prompt that Mistral uses to respond.\n",
    "\n",
    "Areas of improvement: \n",
    "1. change parameters by which documents are split upon loading (done in parse.py load_documents())\n",
    "2. integrate an embedding model when documents are added to the Chroma collection (this file)\n",
    "3. use a pipeline to make the retrieval multi-step or metadata-aware (this file-- but will likely require a lot of code that may end up in other files as well)\n"
   ]
  },
  {
   "cell_type": "code",
   "execution_count": 1,
   "metadata": {},
   "outputs": [
    {
     "name": "stderr",
     "output_type": "stream",
     "text": [
      "/Users/briannacherry/NAS/.venv/lib/python3.10/site-packages/tqdm/auto.py:21: TqdmWarning: IProgress not found. Please update jupyter and ipywidgets. See https://ipywidgets.readthedocs.io/en/stable/user_install.html\n",
      "  from .autonotebook import tqdm as notebook_tqdm\n"
     ]
    }
   ],
   "source": [
    "from parse import find_documents, load_documents\n",
    "import chromadb\n",
    "from chromadb.config import Settings\n",
    "from langchain_community.llms import Ollama\n",
    "from embedding_util import CustomEmbeddingFunction"
   ]
  },
  {
   "cell_type": "code",
   "execution_count": 50,
   "metadata": {},
   "outputs": [],
   "source": [
    "NUM_DOCUMENTS = 1\n",
    "THRESHOLD = 1\n",
    "llm = Ollama(model=\"llama2\")\n",
    "TARGET_DIR = 'SOURCE_DIRECTORY'"
   ]
  },
  {
   "cell_type": "markdown",
   "metadata": {},
   "source": [
    "NOTE cell below: produces \"ignoring wrote pointing object at x y (offset z)\" message -- I believe this is coming from the pyPDFLoader functioncall in load_documents. Cause? Is it an issue or can we just leave it there?"
   ]
  },
  {
   "cell_type": "code",
   "execution_count": 90,
   "metadata": {},
   "outputs": [
    {
     "name": "stdout",
     "output_type": "stream",
     "text": [
      "Found: .DS_Store\n",
      "Found: Love and Friendship July2022-IAPmagazine.pdf\n",
      "Found: text.docx\n",
      "Found: text.pdf\n",
      "Found: proofs textbook.pdf\n",
      "Found: Concepts in Thermal Physics Blundell.pdf\n",
      "Found: programming in c (4th edition)  - stephen g. kochan(1).pdf\n",
      "Found: mechanics textbook.pdf\n",
      "Found: Algorithm Design and Applications[CPSC3210].pdf\n",
      "Found: space-facts.docx\n"
     ]
    },
    {
     "name": "stderr",
     "output_type": "stream",
     "text": [
      "Ignoring wrong pointing object 6 0 (offset 0)\n",
      "Ignoring wrong pointing object 8 0 (offset 0)\n"
     ]
    },
    {
     "data": {
      "text/plain": [
       "3944"
      ]
     },
     "execution_count": 90,
     "metadata": {},
     "output_type": "execute_result"
    }
   ],
   "source": [
    "paths, filenames = find_documents(TARGET_DIR)\n",
    "documents = load_documents(paths, filenames)\n",
    "\n",
    "len(documents)"
   ]
  },
  {
   "cell_type": "code",
   "execution_count": 92,
   "metadata": {},
   "outputs": [],
   "source": [
    "client = chromadb.Client(Settings(allow_reset=True))\n",
    "db = client.get_or_create_collection(\n",
    "    name = 'test', embedding_function=CustomEmbeddingFunction()\n",
    ")\n",
    "\n",
    "db.add(\n",
    "    ids = [str(i) for i in range(0, len(documents))],\n",
    "    documents = [doc.page_content for doc in documents], \n",
    "    metadatas = [doc.metadata for doc in documents]\n",
    ")"
   ]
  },
  {
   "cell_type": "code",
   "execution_count": 74,
   "metadata": {},
   "outputs": [],
   "source": [
    "def create_prompt(context, question):\n",
    "    str = f\"\"\"\n",
    "    \n",
    "    You are a helpful assistant that will use some provided context to answer the following question. Before you answer, read the context and think\n",
    "    about how it relates to and answers the question. If you can't answer a question based on the context, simply state that you could not find any useful \n",
    "    information to help answer. Do not use any other information besides the provided context.\n",
    "\n",
    "    {context}\n",
    "    User:{question}\n",
    "\n",
    "    Use this format:\n",
    "    [Filepath] : \n",
    "    [information learned from source]\n",
    "\n",
    "    Thank you!\n",
    "    \"\"\"\n",
    "\n",
    "    return str"
   ]
  },
  {
   "cell_type": "code",
   "execution_count": 73,
   "metadata": {},
   "outputs": [],
   "source": [
    "def print_recieved_documents(document_list):\n",
    "    #print(f\"LENGTH IS : {len(document_list['metadatas'][0])}\")\n",
    "    #print(f\"LENGTH IS : {len(document_list['documents'][0])}\")\n",
    "    for idx, _ in enumerate(document_list['ids'][0]):\n",
    "        print('************')\n",
    "        print(f\"Filepath: {document_list['metadatas'][0][idx]}\")\n",
    "        #print(f\"distance: {document_list['distances'][0][idx]}\")\n",
    "        print(f\"Content: {document_list['documents'][0][idx]}\")\n",
    "        print('************')"
   ]
  },
  {
   "cell_type": "code",
   "execution_count": null,
   "metadata": {},
   "outputs": [],
   "source": [
    "# code to view the prompt\n",
    "#temp = db.query(query_texts='What is the mass of a proton?', n_results=3)\n",
    "#print_recieved_documents(temp)\n",
    "\n",
    "#print(create_prompt(temp, 'What is the mass of a proton?'))"
   ]
  },
  {
   "cell_type": "code",
   "execution_count": 87,
   "metadata": {},
   "outputs": [],
   "source": [
    "def get_llm_response(question, show_context = True):\n",
    "    results = db.query(query_texts = question, n_results = NUM_DOCUMENTS)\n",
    "    if show_context:\n",
    "        print_recieved_documents(results)\n",
    "\n",
    "    relevant_docs = []\n",
    "\n",
    "    for idx, dist in enumerate(results['distances'][0]):\n",
    "        if dist < THRESHOLD:\n",
    "            this_doc = [ results['metadatas'][0][idx], results['documents'][0][idx]]\n",
    "            relevant_docs.append(this_doc)\n",
    "\n",
    "    response = llm.invoke(create_prompt(relevant_docs, question))\n",
    "    print(response)"
   ]
  },
  {
   "cell_type": "code",
   "execution_count": 88,
   "metadata": {},
   "outputs": [],
   "source": [
    "QUERY = \"Can you explain the laws of thermodynamics and how they are used?\""
   ]
  },
  {
   "cell_type": "code",
   "execution_count": 89,
   "metadata": {},
   "outputs": [
    {
     "name": "stdout",
     "output_type": "stream",
     "text": [
      "Can you explain the laws of thermodynamics and how they are used?\n",
      "\n",
      "MISTRAL WITH RAG:\n",
      "\n",
      "\n",
      "[SOURCE_DIRECTORY/Concepts in Thermal Physics Blundell.pdf] :\n",
      "\n",
      "In Chapter 11 of the provided context, the notion of a function of state, specifically internal energy, is introduced as one of the most useful concepts in thermodynamics. The chapter discusses in detail the first law of thermodynamics, which states that energy is conserved and heat is a form of energy. Expressions for the heat capacity measured at constant volume or pressure for an ideal gas are derived.\n",
      "\n",
      "In Chapter 12, the key concept of reversibility and isothermal and adiabatic processes are introduced. The chapter provides a detailed explanation of how these concepts relate to the laws of thermodynamics and their practical applications.\n",
      "\n",
      "Based on the provided context, it appears that the first law of thermodynamics and its related concepts are the primary focus of the text. Therefore, the information learned from the source can be used to explain and elaborate on the laws of thermodynamics and their significance in the field of thermal physics.\n",
      "\n",
      "MISTRAL:\n",
      "\n",
      "Certainly! The laws of thermodynamics are a set of principles that describe the behavior of energy and its interactions with matter. There are four main laws of thermodynamics, each of which provides a fundamental concept or principle that helps us understand how energy works:\n",
      "\n",
      "1. The zeroth law of thermodynamics: This law states that if two systems are in thermal equilibrium with a third system, then they are also in thermal equilibrium with each other. In other words, if a system is at the same temperature as another system, then they are both at the same thermal state.\n",
      "2. The first law of thermodynamics: This law states that energy cannot be created or destroyed, only converted from one form to another. This means that the total amount of energy in a closed system remains constant, and that energy can be transferred from one form to another through work or heat transfer.\n",
      "3. The second law of thermodynamics: This law states that the total entropy of an isolated system cannot decrease over time, it can only stay the same or increase. Entropy is a measure of disorder or randomness in a system, and the second law of thermodynamics tells us that energy will always flow from a more ordered state to a less ordered state, which means that the energy available for useful work will always be limited.\n",
      "4. The third law of thermodynamics: This law states that as a system approaches absolute zero (0 K), the entropy of the system approaches a minimum value. In other words, it is impossible to reach absolute zero, and the entropy of a system will always be at least a certain minimum value.\n",
      "\n",
      "These laws are used in a wide range of applications, including:\n",
      "\n",
      "1. Heat transfer: The first law of thermodynamics is used to understand how heat is transferred between systems, and the second law of thermodynamics is used to determine the efficiency of heat engines and refrigeration systems.\n",
      "2. Thermal energy storage: The second law of thermodynamics is used to design thermal energy storage systems that can store thermal energy for later use.\n",
      "3. Materials science: The laws of thermodynamics are used to understand the properties of materials, such as their phase transitions and the behavior of defects in materials.\n",
      "4. Chemical reactions: The laws of thermodynamics are used to understand the spontaneity of chemical reactions and the maximum efficiency with which they can be carried out.\n",
      "5. Nuclear reactions: The laws of thermodynamics are used to understand the behavior of nuclear reactors and the thermodynamic properties of nuclear fuels.\n",
      "6. Renewable energy: The laws of thermodynamics are used to understand the efficiency of renewable energy systems, such as solar cells and wind turbines.\n",
      "7. Aerospace engineering: The laws of thermodynamics are used to understand the behavior of spacecraft and the thermodynamic properties of materials in space.\n",
      "8. Biological systems: The laws of thermodynamics are used to understand the behavior of biological systems, such as the metabolism of living organisms and the efficiency of photosynthesis.\n",
      "9. Materials engineering: The laws of thermodynamics are used to design materials with specific properties, such as superconductors and shape-memory alloys.\n",
      "10. Environmental science: The laws of thermodynamics are used to understand the behavior of environmental systems, such as the carbon cycle and the thermodynamic properties of greenhouse gases.\n",
      "\n",
      "These are just a few examples of how the laws of thermodynamics are used in various fields. The principles of thermodynamics provide a fundamental understanding of the behavior of energy and its interactions with matter, which is essential for designing and optimizing energy-related systems.\n"
     ]
    }
   ],
   "source": [
    "print(QUERY)\n",
    "print()\n",
    "print(\"MISTRAL WITH RAG:\")\n",
    "print()\n",
    "get_llm_response(QUERY, show_context = False)\n",
    "print()\n",
    "print(\"MISTRAL:\")\n",
    "print(llm.invoke(QUERY))"
   ]
  }
 ],
 "metadata": {
  "kernelspec": {
   "display_name": "Python 3 (ipykernel)",
   "language": "python",
   "name": "python3"
  },
  "language_info": {
   "codemirror_mode": {
    "name": "ipython",
    "version": 3
   },
   "file_extension": ".py",
   "mimetype": "text/x-python",
   "name": "python",
   "nbconvert_exporter": "python",
   "pygments_lexer": "ipython3",
   "version": "3.10.14"
  }
 },
 "nbformat": 4,
 "nbformat_minor": 4
}
